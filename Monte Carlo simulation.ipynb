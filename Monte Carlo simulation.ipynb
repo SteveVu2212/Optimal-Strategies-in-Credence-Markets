{
 "cells": [
  {
   "cell_type": "markdown",
   "metadata": {
    "id": "UXJ8hs2u5jur"
   },
   "source": [
    "# Boilerplate"
   ]
  },
  {
   "cell_type": "code",
   "execution_count": 1,
   "metadata": {
    "executionInfo": {
     "elapsed": 330,
     "status": "ok",
     "timestamp": 1635443014032,
     "user": {
      "displayName": "Steve Vu",
      "photoUrl": "https://lh3.googleusercontent.com/a/default-user=s64",
      "userId": "15042692419690583501"
     },
     "user_tz": 420
    },
    "id": "41yi0UJ-5juz"
   },
   "outputs": [],
   "source": [
    "import time\n",
    "import random\n",
    "import copy\n",
    "import numpy as np\n",
    "import pandas as pd\n",
    "import seaborn as sns\n",
    "from collections import deque\n",
    "import multiprocessing as mp\n",
    "import matplotlib.pyplot as plt\n",
    "from itertools import combinations_with_replacement"
   ]
  },
  {
   "cell_type": "code",
   "execution_count": 2,
   "metadata": {},
   "outputs": [],
   "source": [
    "random.seed(0)"
   ]
  },
  {
   "cell_type": "markdown",
   "metadata": {
    "id": "tcR4RU5J5ju2"
   },
   "source": [
    "# Parameters"
   ]
  },
  {
   "cell_type": "code",
   "execution_count": 4,
   "metadata": {
    "executionInfo": {
     "elapsed": 25,
     "status": "ok",
     "timestamp": 1635443014289,
     "user": {
      "displayName": "Steve Vu",
      "photoUrl": "https://lh3.googleusercontent.com/a/default-user=s64",
      "userId": "15042692419690583501"
     },
     "user_tz": 420
    },
    "id": "wfX6jXeC5ju3"
   },
   "outputs": [],
   "source": [
    "experiment_info = {'num_run': 1, 'num_episodes': 10, \"num_steps\": 1000}\n",
    "\n",
    "market_info = {\n",
    "    'num_sellers': 5, 'num_buyers': 5, 'group_size': 3, 'max_capacity': 15, 'rating_step':1, 'prob_good_failure': 0.1,\n",
    "    'price': np.array([10,20]), 'repair': np.array([5,10]), 'buffer_size': 10\n",
    "    }"
   ]
  },
  {
   "cell_type": "code",
   "execution_count": 5,
   "metadata": {},
   "outputs": [],
   "source": [
    "prob_bproblem_fail = np.round(np.arange(start=0, stop=1.2, step=0.3),2)\n",
    "prob_overcharge_detected = np.round(np.arange(start=0, stop=1.2, step=0.3),2)\n",
    "rating_ratio = np.round(np.arange(start=0, stop=1.2, step=0.3),2)"
   ]
  },
  {
   "cell_type": "code",
   "execution_count": 6,
   "metadata": {},
   "outputs": [],
   "source": [
    "parameters = [[i,j,k] for i in prob_bproblem_fail for j in prob_overcharge_detected for k in rating_ratio]"
   ]
  },
  {
   "cell_type": "code",
   "execution_count": null,
   "metadata": {},
   "outputs": [],
   "source": [
    "fairness_score = {0:5, 1:2, 2:8, 3:2, 4:0, 5:7, 6:4, 7:1, 8:6}"
   ]
  },
  {
   "cell_type": "markdown",
   "metadata": {
    "id": "Wkr1eIfr5ju4"
   },
   "source": [
    "# Action space"
   ]
  },
  {
   "cell_type": "code",
   "execution_count": 8,
   "metadata": {
    "executionInfo": {
     "elapsed": 25,
     "status": "ok",
     "timestamp": 1635443014290,
     "user": {
      "displayName": "Steve Vu",
      "photoUrl": "https://lh3.googleusercontent.com/a/default-user=s64",
      "userId": "15042692419690583501"
     },
     "user_tz": 420
    },
    "id": "9aPSNu6E5ju4"
   },
   "outputs": [],
   "source": [
    "possible_action = np.array([[[0,0],[0,0]],\n",
    "                            [[0,0],[1,0]],\n",
    "                            [[0,0],[1,1]],\n",
    "                            [[1,0],[0,0]],\n",
    "                            [[1,0],[1,0]],\n",
    "                            [[1,0],[1,1]],\n",
    "                            [[1,1],[0,0]],\n",
    "                            [[1,1],[1,0]],\n",
    "                            [[1,1],[1,1]]])"
   ]
  },
  {
   "cell_type": "code",
   "execution_count": 9,
   "metadata": {
    "executionInfo": {
     "elapsed": 25,
     "status": "ok",
     "timestamp": 1635443014291,
     "user": {
      "displayName": "Steve Vu",
      "photoUrl": "https://lh3.googleusercontent.com/a/default-user=s64",
      "userId": "15042692419690583501"
     },
     "user_tz": 420
    },
    "id": "ZrsChctp5ju5"
   },
   "outputs": [],
   "source": [
    "action_idx = np.arange(possible_action.shape[0])"
   ]
  },
  {
   "cell_type": "code",
   "execution_count": 10,
   "metadata": {
    "executionInfo": {
     "elapsed": 25,
     "status": "ok",
     "timestamp": 1635443014292,
     "user": {
      "displayName": "Steve Vu",
      "photoUrl": "https://lh3.googleusercontent.com/a/default-user=s64",
      "userId": "15042692419690583501"
     },
     "user_tz": 420
    },
    "id": "zjWN6coG5ju6"
   },
   "outputs": [],
   "source": [
    "combination_actions = list(combinations_with_replacement(action_idx, market_info['num_sellers']))"
   ]
  },
  {
   "cell_type": "code",
   "execution_count": 11,
   "metadata": {},
   "outputs": [],
   "source": [
    "other_actions = list(combinations_with_replacement(action_idx, market_info['num_sellers']-1))"
   ]
  },
  {
   "cell_type": "code",
   "execution_count": 13,
   "metadata": {},
   "outputs": [],
   "source": [
    "grouped_actions = []\n",
    "for other in other_actions:\n",
    "    group = []\n",
    "    for action in action_idx:\n",
    "        group.append([action] + list(other))\n",
    "    grouped_actions.append(group)"
   ]
  },
  {
   "cell_type": "markdown",
   "metadata": {
    "id": "Jc3jbhW85ju7"
   },
   "source": [
    "# Market Operation"
   ]
  },
  {
   "cell_type": "code",
   "execution_count": 15,
   "metadata": {
    "executionInfo": {
     "elapsed": 25,
     "status": "ok",
     "timestamp": 1635443014293,
     "user": {
      "displayName": "Steve Vu",
      "photoUrl": "https://lh3.googleusercontent.com/a/default-user=s64",
      "userId": "15042692419690583501"
     },
     "user_tz": 420
    },
    "id": "O5tMk9QG5ju7"
   },
   "outputs": [],
   "source": [
    "def buyer_allocation(ratings, market_info):\n",
    "    #ratings must be a 1D array\n",
    "    #group_size: group of sellers a buyer stop by\n",
    "    buyers = [random.randrange(2) for _ in range(market_info['num_buyers'])]\n",
    "    allocated_buyers = [[] for _ in range(market_info['num_sellers'])]\n",
    "    for b in buyers:\n",
    "        group_sellers = np.random.choice(np.arange(market_info['num_sellers']), market_info['group_size'], replace=False)\n",
    "        group_ratings = ratings[group_sellers]\n",
    "        cum_prob = np.append(0, np.cumsum(group_ratings / np.sum(group_ratings)))\n",
    "        num = random.random()\n",
    "        for i in range(len(cum_prob)):\n",
    "            if cum_prob[i] <= num <= cum_prob[i+1]:\n",
    "                allocated_buyers[group_sellers[i]].append(buyers[b])\n",
    "    return allocated_buyers"
   ]
  },
  {
   "cell_type": "code",
   "execution_count": 16,
   "metadata": {
    "executionInfo": {
     "elapsed": 24,
     "status": "ok",
     "timestamp": 1635443014293,
     "user": {
      "displayName": "Steve Vu",
      "photoUrl": "https://lh3.googleusercontent.com/a/default-user=s64",
      "userId": "15042692419690583501"
     },
     "user_tz": 420
    },
    "id": "Y_57AEeP5ju8"
   },
   "outputs": [],
   "source": [
    "# Calculating profit generated from each allocated buyers\n",
    "def cal_profit(action, allocated_buyers, market_info):\n",
    "    profit_profile = np.zeros(len(allocated_buyers))\n",
    "    for i in range(len(allocated_buyers)):\n",
    "        buyer = allocated_buyers[i]\n",
    "        profit_profile[i] = market_info['price'][action[buyer][0]] - market_info['repair'][action[buyer][1]]\n",
    "    return profit_profile"
   ]
  },
  {
   "cell_type": "code",
   "execution_count": 17,
   "metadata": {
    "executionInfo": {
     "elapsed": 125,
     "status": "ok",
     "timestamp": 1635443231009,
     "user": {
      "displayName": "Steve Vu",
      "photoUrl": "https://lh3.googleusercontent.com/a/default-user=s64",
      "userId": "15042692419690583501"
     },
     "user_tz": 420
    },
    "id": "XfTpRuKN5ju9"
   },
   "outputs": [],
   "source": [
    "#Given a list of allocated buyers, a seller selects who to be served based on his capacity and profit margins\n",
    "def buyer_selection(allocated_buyers, action, remaining_capacity, market_info):\n",
    "    profit_profile = cal_profit(action, allocated_buyers, market_info)\n",
    "    uni_profit = np.unique(profit_profile, return_counts=True)\n",
    "    selected_buyers = []\n",
    "    for i in range(len(uni_profit[0])):\n",
    "        profit = uni_profit[0][-i-1]\n",
    "        num = uni_profit[1][-i-1]\n",
    "        if num < remaining_capacity:\n",
    "            selected_buyers.extend(np.take(allocated_buyers, np.where(profit_profile == profit)[0]))\n",
    "            remaining_capacity -= num\n",
    "        else:\n",
    "            n = min(num, remaining_capacity)\n",
    "            remaining_capacity -= n\n",
    "            selected_buyers.extend(np.take(allocated_buyers, np.random.choice(np.where(profit_profile == profit)[0],n)))\n",
    "    realized_profit = selected_profit(profit_profile, allocated_buyers, selected_buyers)\n",
    "    return selected_buyers, realized_profit"
   ]
  },
  {
   "cell_type": "code",
   "execution_count": 18,
   "metadata": {
    "executionInfo": {
     "elapsed": 24,
     "status": "ok",
     "timestamp": 1635443014295,
     "user": {
      "displayName": "Steve Vu",
      "photoUrl": "https://lh3.googleusercontent.com/a/default-user=s64",
      "userId": "15042692419690583501"
     },
     "user_tz": 420
    },
    "id": "xmXuuZQv5ju-"
   },
   "outputs": [],
   "source": [
    "# Profit from selected buyers\n",
    "def selected_profit(profit_profile, allocated_buyers, selected_buyers):\n",
    "    return np.array([profit_profile[np.random.choice(np.where(allocated_buyers == i)[0],1)] for i in selected_buyers]).reshape(len(selected_buyers),)"
   ]
  },
  {
   "cell_type": "code",
   "execution_count": 19,
   "metadata": {
    "executionInfo": {
     "elapsed": 24,
     "status": "ok",
     "timestamp": 1635443014296,
     "user": {
      "displayName": "Steve Vu",
      "photoUrl": "https://lh3.googleusercontent.com/a/default-user=s64",
      "userId": "15042692419690583501"
     },
     "user_tz": 420
    },
    "id": "sbWwsj7f5ju_"
   },
   "outputs": [],
   "source": [
    "# Update ratings after serving selected buyers\n",
    "# Overcharging is that prices are greater than served repairs. Only happens to small problems\n",
    "#prob_overcharge is the probability a client finds out that he is overcharged. In that case, the provider's rating is unchanged\n",
    "def update_rating(rating, selected_buyers, action, market_info, prob_bproblem, prob_overcharge):\n",
    "    new_rating = rating\n",
    "    if len(selected_buyers) == 0:\n",
    "        return new_rating\n",
    "    for b in selected_buyers:\n",
    "        r = random.random()\n",
    "        if action[b][1] >= b: #provide treatments that are greater or equal to the problems\n",
    "            if r >= market_info['prob_good_failure']:\n",
    "                if action[b][0] > action[b][1]:\n",
    "                    new_rating += market_info['rating_step'] * (1 - prob_overcharge) #give an expected rating\n",
    "                else:\n",
    "                    new_rating += market_info['rating_step']\n",
    "        else: #Undertreatment\n",
    "            if r >= prob_bproblem:\n",
    "                if action[b][0] > action[b][1]:\n",
    "                    new_rating += market_info['rating_step'] * (1 - prob_overcharge)\n",
    "                else:\n",
    "                    new_rating += market_info['rating_step']\n",
    "    return new_rating"
   ]
  },
  {
   "cell_type": "code",
   "execution_count": 20,
   "metadata": {},
   "outputs": [],
   "source": [
    "def get_ratings_from_buffer(ratings_buffer, r_rating):\n",
    "    ratings = []\n",
    "    for seller in range(market_info['num_sellers']):\n",
    "        seller_ratings = list(ratings_buffer[seller])\n",
    "        if len(seller_ratings) > 1:\n",
    "            ratings.append(r_rating*np.mean(seller_ratings[:-1]) + (1-r_rating)*seller_ratings[-1])\n",
    "        else:\n",
    "            ratings.append(seller_ratings[0])\n",
    "    return ratings"
   ]
  },
  {
   "cell_type": "code",
   "execution_count": 21,
   "metadata": {},
   "outputs": [],
   "source": [
    "# Implementation function used for parallel processing\n",
    "# In each iteration, a combination of strategies is selected\n",
    "# We will run for n iterations to collect profits generated by each strategies\n",
    "\n",
    "def credence_market(idx, grouped_actions, market_info, experiment_info, param):\n",
    "    scenario_profit = []\n",
    "    scenario_rating = []\n",
    "    for group_action in grouped_actions:\n",
    "        group_profit = []\n",
    "        group_ratings = []\n",
    "        for group_action_id in group_action:\n",
    "            actions = possible_action[np.array(group_action_id)]\n",
    "            recorded_profit = []\n",
    "            recorded_ratings = []\n",
    "            for episode in range(experiment_info['num_episodes']):\n",
    "                profit = np.zeros(market_info['num_sellers'])\n",
    "                ratings_buffer = [deque([1], maxlen=market_info['buffer_size']) for _ in range(market_info['num_sellers'])]\n",
    "                ratings = np.array(get_ratings_from_buffer(ratings_buffer, market_info))\n",
    "                capacity = np.ones(market_info['num_sellers']) * market_info['max_capacity']\n",
    "                for step in range(experiment_info['num_steps']):\n",
    "                    allocated_buyers = buyer_allocation(ratings, market_info)\n",
    "                    for i in range(market_info['num_sellers']):\n",
    "                        selected_buyers, realized_profit = buyer_selection(action=actions[i],allocated_buyers=allocated_buyers[i],remaining_capacity=capacity[i],market_info=market_info)\n",
    "                        profit[i] += np.sum(realized_profit)\n",
    "                        ratings_buffer[i].append(update_rating(rating=list(ratings_buffer[i])[-1],selected_buyers=selected_buyers,action=actions[i],market_info=market_info,prob_bproblem=param[0],prob_overcharge=param[1]))\n",
    "                    ratings = np.array(get_ratings_from_buffer(ratings_buffer, r_rating=param[2]))\n",
    "\n",
    "                recorded_profit.append(profit)\n",
    "                rr = []\n",
    "                for i in range(market_info['num_sellers']):\n",
    "                    rr.append(list(ratings_buffer[i])[-1])\n",
    "                recorded_ratings.append(rr)\n",
    "\n",
    "            avg_profit = np.mean(np.array(recorded_profit), axis = 0, dtype=np.int32)\n",
    "            avg_ratings = np.mean(np.array(recorded_ratings), axis=0, dtype=np.int32)\n",
    "        \n",
    "            group_profit.append(list(avg_profit))\n",
    "            group_ratings.append(list(avg_ratings))\n",
    "        \n",
    "        scenario_profit.append(group_profit)\n",
    "        scenario_rating.append(group_ratings)\n",
    "\n",
    "    return (idx, scenario_profit, scenario_rating)"
   ]
  },
  {
   "cell_type": "markdown",
   "metadata": {
    "id": "aQet1Max5jvD"
   },
   "source": [
    "# Implementation"
   ]
  },
  {
   "cell_type": "code",
   "execution_count": 22,
   "metadata": {},
   "outputs": [],
   "source": [
    "def credence(parameters):\n",
    "    idx, param = parameters\n",
    "    return credence_market(idx, grouped_actions, market_info, experiment_info, param)"
   ]
  },
  {
   "cell_type": "code",
   "execution_count": 23,
   "metadata": {
    "id": "_wZYVXDS5jvD"
   },
   "outputs": [
    {
     "name": "stdout",
     "output_type": "stream",
     "text": [
      "Time in parallel:  112772.43854236603\n"
     ]
    }
   ],
   "source": [
    "ts = time.time()\n",
    "pool = mp.Pool(mp.cpu_count())\n",
    "results = pool.map(credence, enumerate(parameters))\n",
    "print('Time in parallel: ', time.time() - ts)"
   ]
  },
  {
   "cell_type": "markdown",
   "metadata": {},
   "source": [
    "# Data processing"
   ]
  },
  {
   "cell_type": "code",
   "execution_count": 254,
   "metadata": {},
   "outputs": [],
   "source": [
    "def action_value(result):\n",
    "    all_profit = []\n",
    "    all_best_response = []\n",
    "    for i in range(len(other_actions)):\n",
    "        lst_profit = np.array(result[1][i])[:,0]\n",
    "        best_profit_id = np.argmax(lst_profit)\n",
    "\n",
    "        all_profit.append(lst_profit)\n",
    "        all_best_response.append(best_profit_id)\n",
    "        avg_profit = np.mean(all_profit, axis=0)\n",
    "    return avg_profit"
   ]
  },
  {
   "cell_type": "code",
   "execution_count": 277,
   "metadata": {},
   "outputs": [],
   "source": [
    "def best_action(results):\n",
    "    scenario_profit = []\n",
    "    scenario_rating = []\n",
    "    scenario_fairness = []\n",
    "    scenario_bresponse = np.zeros((len(parameters), len(possible_action)))\n",
    "    for i in range(len(parameters)):\n",
    "        result = results[i]\n",
    "        all_profit = []\n",
    "        all_rating = []\n",
    "        all_best_response = []\n",
    "        for j in range(len(other_actions)):\n",
    "            lst_profit = np.array(result[1][j])[:,0]\n",
    "            lst_rating = np.array(result[2][j])[:,0]\n",
    "            best_profit_id = np.argmax(lst_profit)\n",
    "            \n",
    "            all_profit.append(lst_profit)\n",
    "            all_rating.append(lst_rating)\n",
    "            all_best_response.append(best_profit_id)\n",
    "\n",
    "        avg_profit = np.mean(np.array(all_profit), axis=0)\n",
    "        avg_rating = np.mean(np.array(all_rating), axis=0)\n",
    "        bresponse = np.unique(np.array(all_best_response), return_counts=True)\n",
    "        uni_bresponse = bresponse[0]\n",
    "        count_bresponse = bresponse[1]\n",
    "\n",
    "        profit = 0\n",
    "        rating = 0\n",
    "        fairness = 0\n",
    "        for k in zip(uni_bresponse, count_bresponse):\n",
    "            profit += avg_profit[k[0]] * k[1]\n",
    "            rating += avg_rating[k[0]] * k[1]\n",
    "            fairness += fairness_score[k[0]] * k[1]\n",
    "            scenario_bresponse[i][k[0]] = k[1]\n",
    "        \n",
    "        scenario_profit.append(profit/sum(count_bresponse))\n",
    "        scenario_rating.append(rating/sum(count_bresponse))\n",
    "        scenario_fairness.append(fairness/sum(count_bresponse))\n",
    "    \n",
    "    return scenario_profit, scenario_rating, scenario_fairness, scenario_bresponse\n"
   ]
  },
  {
   "cell_type": "code",
   "execution_count": 278,
   "metadata": {},
   "outputs": [],
   "source": [
    "scenario_profit, scenario_rating, scenario_fairness,scenario_bresponse = best_action(results)"
   ]
  },
  {
   "cell_type": "code",
   "execution_count": 281,
   "metadata": {},
   "outputs": [],
   "source": [
    "df_action = pd.DataFrame(scenario_bresponse)"
   ]
  },
  {
   "cell_type": "code",
   "execution_count": 291,
   "metadata": {},
   "outputs": [],
   "source": [
    "df_action.to_csv(path + 'df_action.csv')"
   ]
  },
  {
   "cell_type": "code",
   "execution_count": 75,
   "metadata": {},
   "outputs": [],
   "source": [
    "prob_bproblem_fail = np.array(parameters)[:,0]\n",
    "prob_overcharge_detected = np.array(parameters)[:,1]\n",
    "rating_ratio = np.array(parameters)[:,2]"
   ]
  },
  {
   "cell_type": "code",
   "execution_count": 86,
   "metadata": {},
   "outputs": [],
   "source": [
    "df = pd.DataFrame()\n",
    "df['prob_bproblem_fail'] = prob_bproblem_fail\n",
    "df['prob_overcharge_detected'] = prob_overcharge_detected\n",
    "df['rating_ratio'] = rating_ratio\n",
    "df['scenario_profit'] = np.array(scenario_profit).astype('int32')\n",
    "df['scenario_rating'] = np.array(scenario_rating).astype('int32')\n",
    "df['scenario_fairness'] = np.array(scenario_fairness).astype('int32')"
   ]
  },
  {
   "cell_type": "code",
   "execution_count": 88,
   "metadata": {},
   "outputs": [],
   "source": [
    "df.to_csv('final_data.csv')"
   ]
  },
  {
   "cell_type": "code",
   "execution_count": 284,
   "metadata": {},
   "outputs": [],
   "source": [
    "final_df = pd.concat([df, df_action], axis=1)"
   ]
  },
  {
   "cell_type": "code",
   "execution_count": 285,
   "metadata": {},
   "outputs": [
    {
     "data": {
      "text/html": [
       "<div>\n",
       "<style scoped>\n",
       "    .dataframe tbody tr th:only-of-type {\n",
       "        vertical-align: middle;\n",
       "    }\n",
       "\n",
       "    .dataframe tbody tr th {\n",
       "        vertical-align: top;\n",
       "    }\n",
       "\n",
       "    .dataframe thead th {\n",
       "        text-align: right;\n",
       "    }\n",
       "</style>\n",
       "<table border=\"1\" class=\"dataframe\">\n",
       "  <thead>\n",
       "    <tr style=\"text-align: right;\">\n",
       "      <th></th>\n",
       "      <th>prob_bproblem_fail</th>\n",
       "      <th>prob_overcharge_detected</th>\n",
       "      <th>rating_ratio</th>\n",
       "      <th>scenario_profit</th>\n",
       "      <th>scenario_rating</th>\n",
       "      <th>scenario_fairness</th>\n",
       "      <th>0</th>\n",
       "      <th>1</th>\n",
       "      <th>2</th>\n",
       "      <th>3</th>\n",
       "      <th>4</th>\n",
       "      <th>5</th>\n",
       "      <th>6</th>\n",
       "      <th>7</th>\n",
       "      <th>8</th>\n",
       "    </tr>\n",
       "  </thead>\n",
       "  <tbody>\n",
       "    <tr>\n",
       "      <th>0</th>\n",
       "      <td>0.0</td>\n",
       "      <td>0.0</td>\n",
       "      <td>0.0</td>\n",
       "      <td>15324</td>\n",
       "      <td>987</td>\n",
       "      <td>0</td>\n",
       "      <td>0.0</td>\n",
       "      <td>1.0</td>\n",
       "      <td>0.0</td>\n",
       "      <td>1.0</td>\n",
       "      <td>447.0</td>\n",
       "      <td>5.0</td>\n",
       "      <td>0.0</td>\n",
       "      <td>41.0</td>\n",
       "      <td>0.0</td>\n",
       "    </tr>\n",
       "    <tr>\n",
       "      <th>1</th>\n",
       "      <td>0.0</td>\n",
       "      <td>0.0</td>\n",
       "      <td>0.3</td>\n",
       "      <td>15256</td>\n",
       "      <td>983</td>\n",
       "      <td>0</td>\n",
       "      <td>0.0</td>\n",
       "      <td>0.0</td>\n",
       "      <td>0.0</td>\n",
       "      <td>0.0</td>\n",
       "      <td>442.0</td>\n",
       "      <td>7.0</td>\n",
       "      <td>0.0</td>\n",
       "      <td>46.0</td>\n",
       "      <td>0.0</td>\n",
       "    </tr>\n",
       "    <tr>\n",
       "      <th>2</th>\n",
       "      <td>0.0</td>\n",
       "      <td>0.0</td>\n",
       "      <td>0.6</td>\n",
       "      <td>15261</td>\n",
       "      <td>984</td>\n",
       "      <td>0</td>\n",
       "      <td>0.0</td>\n",
       "      <td>0.0</td>\n",
       "      <td>0.0</td>\n",
       "      <td>0.0</td>\n",
       "      <td>441.0</td>\n",
       "      <td>4.0</td>\n",
       "      <td>0.0</td>\n",
       "      <td>50.0</td>\n",
       "      <td>0.0</td>\n",
       "    </tr>\n",
       "    <tr>\n",
       "      <th>3</th>\n",
       "      <td>0.0</td>\n",
       "      <td>0.0</td>\n",
       "      <td>0.9</td>\n",
       "      <td>15352</td>\n",
       "      <td>984</td>\n",
       "      <td>0</td>\n",
       "      <td>0.0</td>\n",
       "      <td>1.0</td>\n",
       "      <td>0.0</td>\n",
       "      <td>0.0</td>\n",
       "      <td>461.0</td>\n",
       "      <td>2.0</td>\n",
       "      <td>0.0</td>\n",
       "      <td>31.0</td>\n",
       "      <td>0.0</td>\n",
       "    </tr>\n",
       "    <tr>\n",
       "      <th>4</th>\n",
       "      <td>0.0</td>\n",
       "      <td>0.3</td>\n",
       "      <td>0.0</td>\n",
       "      <td>11166</td>\n",
       "      <td>855</td>\n",
       "      <td>4</td>\n",
       "      <td>0.0</td>\n",
       "      <td>3.0</td>\n",
       "      <td>1.0</td>\n",
       "      <td>11.0</td>\n",
       "      <td>5.0</td>\n",
       "      <td>62.0</td>\n",
       "      <td>7.0</td>\n",
       "      <td>188.0</td>\n",
       "      <td>218.0</td>\n",
       "    </tr>\n",
       "    <tr>\n",
       "      <th>...</th>\n",
       "      <td>...</td>\n",
       "      <td>...</td>\n",
       "      <td>...</td>\n",
       "      <td>...</td>\n",
       "      <td>...</td>\n",
       "      <td>...</td>\n",
       "      <td>...</td>\n",
       "      <td>...</td>\n",
       "      <td>...</td>\n",
       "      <td>...</td>\n",
       "      <td>...</td>\n",
       "      <td>...</td>\n",
       "      <td>...</td>\n",
       "      <td>...</td>\n",
       "      <td>...</td>\n",
       "    </tr>\n",
       "    <tr>\n",
       "      <th>59</th>\n",
       "      <td>0.9</td>\n",
       "      <td>0.6</td>\n",
       "      <td>0.9</td>\n",
       "      <td>18299</td>\n",
       "      <td>1518</td>\n",
       "      <td>6</td>\n",
       "      <td>0.0</td>\n",
       "      <td>0.0</td>\n",
       "      <td>0.0</td>\n",
       "      <td>0.0</td>\n",
       "      <td>0.0</td>\n",
       "      <td>96.0</td>\n",
       "      <td>0.0</td>\n",
       "      <td>0.0</td>\n",
       "      <td>399.0</td>\n",
       "    </tr>\n",
       "    <tr>\n",
       "      <th>60</th>\n",
       "      <td>0.9</td>\n",
       "      <td>0.9</td>\n",
       "      <td>0.0</td>\n",
       "      <td>19087</td>\n",
       "      <td>1674</td>\n",
       "      <td>6</td>\n",
       "      <td>0.0</td>\n",
       "      <td>0.0</td>\n",
       "      <td>0.0</td>\n",
       "      <td>0.0</td>\n",
       "      <td>0.0</td>\n",
       "      <td>30.0</td>\n",
       "      <td>0.0</td>\n",
       "      <td>3.0</td>\n",
       "      <td>462.0</td>\n",
       "    </tr>\n",
       "    <tr>\n",
       "      <th>61</th>\n",
       "      <td>0.9</td>\n",
       "      <td>0.9</td>\n",
       "      <td>0.3</td>\n",
       "      <td>19020</td>\n",
       "      <td>1670</td>\n",
       "      <td>6</td>\n",
       "      <td>0.0</td>\n",
       "      <td>0.0</td>\n",
       "      <td>2.0</td>\n",
       "      <td>0.0</td>\n",
       "      <td>0.0</td>\n",
       "      <td>28.0</td>\n",
       "      <td>0.0</td>\n",
       "      <td>5.0</td>\n",
       "      <td>460.0</td>\n",
       "    </tr>\n",
       "    <tr>\n",
       "      <th>62</th>\n",
       "      <td>0.9</td>\n",
       "      <td>0.9</td>\n",
       "      <td>0.6</td>\n",
       "      <td>18979</td>\n",
       "      <td>1664</td>\n",
       "      <td>6</td>\n",
       "      <td>0.0</td>\n",
       "      <td>0.0</td>\n",
       "      <td>0.0</td>\n",
       "      <td>0.0</td>\n",
       "      <td>0.0</td>\n",
       "      <td>30.0</td>\n",
       "      <td>0.0</td>\n",
       "      <td>3.0</td>\n",
       "      <td>462.0</td>\n",
       "    </tr>\n",
       "    <tr>\n",
       "      <th>63</th>\n",
       "      <td>0.9</td>\n",
       "      <td>0.9</td>\n",
       "      <td>0.9</td>\n",
       "      <td>18938</td>\n",
       "      <td>1660</td>\n",
       "      <td>6</td>\n",
       "      <td>0.0</td>\n",
       "      <td>0.0</td>\n",
       "      <td>0.0</td>\n",
       "      <td>0.0</td>\n",
       "      <td>0.0</td>\n",
       "      <td>30.0</td>\n",
       "      <td>0.0</td>\n",
       "      <td>3.0</td>\n",
       "      <td>462.0</td>\n",
       "    </tr>\n",
       "  </tbody>\n",
       "</table>\n",
       "<p>64 rows × 15 columns</p>\n",
       "</div>"
      ],
      "text/plain": [
       "    prob_bproblem_fail  prob_overcharge_detected  rating_ratio  \\\n",
       "0                  0.0                       0.0           0.0   \n",
       "1                  0.0                       0.0           0.3   \n",
       "2                  0.0                       0.0           0.6   \n",
       "3                  0.0                       0.0           0.9   \n",
       "4                  0.0                       0.3           0.0   \n",
       "..                 ...                       ...           ...   \n",
       "59                 0.9                       0.6           0.9   \n",
       "60                 0.9                       0.9           0.0   \n",
       "61                 0.9                       0.9           0.3   \n",
       "62                 0.9                       0.9           0.6   \n",
       "63                 0.9                       0.9           0.9   \n",
       "\n",
       "    scenario_profit  scenario_rating  scenario_fairness    0    1    2     3  \\\n",
       "0             15324              987                  0  0.0  1.0  0.0   1.0   \n",
       "1             15256              983                  0  0.0  0.0  0.0   0.0   \n",
       "2             15261              984                  0  0.0  0.0  0.0   0.0   \n",
       "3             15352              984                  0  0.0  1.0  0.0   0.0   \n",
       "4             11166              855                  4  0.0  3.0  1.0  11.0   \n",
       "..              ...              ...                ...  ...  ...  ...   ...   \n",
       "59            18299             1518                  6  0.0  0.0  0.0   0.0   \n",
       "60            19087             1674                  6  0.0  0.0  0.0   0.0   \n",
       "61            19020             1670                  6  0.0  0.0  2.0   0.0   \n",
       "62            18979             1664                  6  0.0  0.0  0.0   0.0   \n",
       "63            18938             1660                  6  0.0  0.0  0.0   0.0   \n",
       "\n",
       "        4     5    6      7      8  \n",
       "0   447.0   5.0  0.0   41.0    0.0  \n",
       "1   442.0   7.0  0.0   46.0    0.0  \n",
       "2   441.0   4.0  0.0   50.0    0.0  \n",
       "3   461.0   2.0  0.0   31.0    0.0  \n",
       "4     5.0  62.0  7.0  188.0  218.0  \n",
       "..    ...   ...  ...    ...    ...  \n",
       "59    0.0  96.0  0.0    0.0  399.0  \n",
       "60    0.0  30.0  0.0    3.0  462.0  \n",
       "61    0.0  28.0  0.0    5.0  460.0  \n",
       "62    0.0  30.0  0.0    3.0  462.0  \n",
       "63    0.0  30.0  0.0    3.0  462.0  \n",
       "\n",
       "[64 rows x 15 columns]"
      ]
     },
     "execution_count": 285,
     "metadata": {},
     "output_type": "execute_result"
    }
   ],
   "source": [
    "final_df"
   ]
  },
  {
   "cell_type": "code",
   "execution_count": 292,
   "metadata": {},
   "outputs": [],
   "source": [
    "final_df['Parameters'] = final_df[final_df.columns[:3]].apply(lambda x: ','.join(x.dropna().astype(str)), axis=1)"
   ]
  },
  {
   "cell_type": "code",
   "execution_count": 295,
   "metadata": {},
   "outputs": [],
   "source": [
    "final_df1 = final_df.drop(columns=final_df.columns[:6])"
   ]
  },
  {
   "cell_type": "code",
   "execution_count": 301,
   "metadata": {},
   "outputs": [],
   "source": [
    "final_df1_long = pd.melt(final_df1, id_vars=['Parameters'], value_vars=final_df1.columns[:9])"
   ]
  },
  {
   "cell_type": "code",
   "execution_count": 361,
   "metadata": {},
   "outputs": [
    {
     "data": {
      "text/html": [
       "<div>\n",
       "<style scoped>\n",
       "    .dataframe tbody tr th:only-of-type {\n",
       "        vertical-align: middle;\n",
       "    }\n",
       "\n",
       "    .dataframe tbody tr th {\n",
       "        vertical-align: top;\n",
       "    }\n",
       "\n",
       "    .dataframe thead th {\n",
       "        text-align: right;\n",
       "    }\n",
       "</style>\n",
       "<table border=\"1\" class=\"dataframe\">\n",
       "  <thead>\n",
       "    <tr style=\"text-align: right;\">\n",
       "      <th></th>\n",
       "      <th>Parameters</th>\n",
       "      <th>Actions</th>\n",
       "      <th>Counts</th>\n",
       "    </tr>\n",
       "  </thead>\n",
       "  <tbody>\n",
       "    <tr>\n",
       "      <th>0</th>\n",
       "      <td>0.0,0.0,0.0</td>\n",
       "      <td>0</td>\n",
       "      <td>0.0</td>\n",
       "    </tr>\n",
       "    <tr>\n",
       "      <th>1</th>\n",
       "      <td>0.0,0.0,0.3</td>\n",
       "      <td>0</td>\n",
       "      <td>0.0</td>\n",
       "    </tr>\n",
       "    <tr>\n",
       "      <th>2</th>\n",
       "      <td>0.0,0.0,0.6</td>\n",
       "      <td>0</td>\n",
       "      <td>0.0</td>\n",
       "    </tr>\n",
       "    <tr>\n",
       "      <th>3</th>\n",
       "      <td>0.0,0.0,0.9</td>\n",
       "      <td>0</td>\n",
       "      <td>0.0</td>\n",
       "    </tr>\n",
       "    <tr>\n",
       "      <th>4</th>\n",
       "      <td>0.0,0.3,0.0</td>\n",
       "      <td>0</td>\n",
       "      <td>0.0</td>\n",
       "    </tr>\n",
       "    <tr>\n",
       "      <th>...</th>\n",
       "      <td>...</td>\n",
       "      <td>...</td>\n",
       "      <td>...</td>\n",
       "    </tr>\n",
       "    <tr>\n",
       "      <th>571</th>\n",
       "      <td>0.9,0.6,0.9</td>\n",
       "      <td>8</td>\n",
       "      <td>399.0</td>\n",
       "    </tr>\n",
       "    <tr>\n",
       "      <th>572</th>\n",
       "      <td>0.9,0.9,0.0</td>\n",
       "      <td>8</td>\n",
       "      <td>462.0</td>\n",
       "    </tr>\n",
       "    <tr>\n",
       "      <th>573</th>\n",
       "      <td>0.9,0.9,0.3</td>\n",
       "      <td>8</td>\n",
       "      <td>460.0</td>\n",
       "    </tr>\n",
       "    <tr>\n",
       "      <th>574</th>\n",
       "      <td>0.9,0.9,0.6</td>\n",
       "      <td>8</td>\n",
       "      <td>462.0</td>\n",
       "    </tr>\n",
       "    <tr>\n",
       "      <th>575</th>\n",
       "      <td>0.9,0.9,0.9</td>\n",
       "      <td>8</td>\n",
       "      <td>462.0</td>\n",
       "    </tr>\n",
       "  </tbody>\n",
       "</table>\n",
       "<p>576 rows × 3 columns</p>\n",
       "</div>"
      ],
      "text/plain": [
       "      Parameters Actions  Counts\n",
       "0    0.0,0.0,0.0       0     0.0\n",
       "1    0.0,0.0,0.3       0     0.0\n",
       "2    0.0,0.0,0.6       0     0.0\n",
       "3    0.0,0.0,0.9       0     0.0\n",
       "4    0.0,0.3,0.0       0     0.0\n",
       "..           ...     ...     ...\n",
       "571  0.9,0.6,0.9       8   399.0\n",
       "572  0.9,0.9,0.0       8   462.0\n",
       "573  0.9,0.9,0.3       8   460.0\n",
       "574  0.9,0.9,0.6       8   462.0\n",
       "575  0.9,0.9,0.9       8   462.0\n",
       "\n",
       "[576 rows x 3 columns]"
      ]
     },
     "execution_count": 361,
     "metadata": {},
     "output_type": "execute_result"
    }
   ],
   "source": [
    "final_df1_long.columns = ['Parameters', 'Actions', 'Counts']\n",
    "final_df1_long"
   ]
  },
  {
   "cell_type": "code",
   "execution_count": 363,
   "metadata": {},
   "outputs": [],
   "source": [
    "final_df1_long.to_csv(path + 'final_df1_long.csv')"
   ]
  },
  {
   "cell_type": "code",
   "execution_count": 336,
   "metadata": {},
   "outputs": [],
   "source": [
    "parameters = final_df1_long.Parameters.unique()"
   ]
  },
  {
   "cell_type": "markdown",
   "metadata": {},
   "source": [
    "# Visualization"
   ]
  },
  {
   "cell_type": "code",
   "execution_count": 400,
   "metadata": {},
   "outputs": [
    {
     "data": {
      "image/png": "[encoded data removed]",
      "text/plain": [
       "<Figure size 2160x1440 with 64 Axes>"
      ]
     },
     "metadata": {
      "needs_background": "light"
     },
     "output_type": "display_data"
    },
    {
     "data": {
      "text/plain": [
       "<Figure size 432x288 with 0 Axes>"
      ]
     },
     "metadata": {},
     "output_type": "display_data"
    }
   ],
   "source": [
    "fig, ax = plt.subplots(8,8,figsize=(30,20), sharey=True)\n",
    "ax = ax.flatten()\n",
    "for i in range(64):\n",
    "    a = final_df1_long.loc[final_df1_long.Parameters == parameters[i]]\n",
    "    ax[i].bar(a.Actions.values, a.Counts.values)\n",
    "    ax[i].set_title('($p_{b},p_{o},rs$): ' + f'({parameters[i]})')\n",
    "    ax[i].set_xticks(np.arange(9))\n",
    "plt.tight_layout()\n",
    "plt.show()\n",
    "plt.savefig(path + 'best_response.png')"
   ]
  },
  {
   "cell_type": "code",
   "execution_count": 247,
   "metadata": {},
   "outputs": [],
   "source": [
    "plt.rcParams.update({'font.size': 15})"
   ]
  },
  {
   "cell_type": "code",
   "execution_count": 253,
   "metadata": {},
   "outputs": [
    {
     "data": {
      "image/png": "[encoded data removed]",
      "text/plain": [
       "<Figure size 1800x1224 with 8 Axes>"
      ]
     },
     "metadata": {
      "needs_background": "light"
     },
     "output_type": "display_data"
    }
   ],
   "source": [
    "fig, ax = plt.subplots(2,2, sharey=True,sharex=True, figsize=(25,17))\n",
    "ax = ax.flatten()\n",
    "for idx, ratio in enumerate(np.round(np.arange(start=0, stop=1.2, step=0.3),2)):\n",
    "    data = df.loc[df['rating_ratio'] == ratio]\n",
    "    pivoted_data = data.pivot('prob_bproblem_fail', 'prob_overcharge_detected', 'scenario_fairness')\n",
    "    sns.heatmap(pivoted_data, annot=True, ax=ax[idx])\n",
    "    ax[idx].set_title(f'Rating ratio ($\\delta$): {ratio}')\n",
    "    ax[idx].set_xlabel('Probability overcharges being detected')\n",
    "    ax[idx].set_ylabel('Probability a product with a big problem fails')\n",
    "\n",
    "plt.savefig(path + 'Rating_ratio_scenarios.png', transparent=True)"
   ]
  },
  {
   "cell_type": "code",
   "execution_count": null,
   "metadata": {},
   "outputs": [],
   "source": []
  }
 ],
 "metadata": {
  "colab": {
   "collapsed_sections": [
    "UXJ8hs2u5jur",
    "tcR4RU5J5ju2",
    "Wkr1eIfr5ju4"
   ],
   "name": "Version1.2.ipynb",
   "provenance": []
  },
  "interpreter": {
   "hash": "767d51c1340bd893661ea55ea3124f6de3c7a262a8b4abca0554b478b1e2ff90"
  },
  "kernelspec": {
   "display_name": "Python 3.8.10 64-bit",
   "name": "python3"
  },
  "language_info": {
   "codemirror_mode": {
    "name": "ipython",
    "version": 3
   },
   "file_extension": ".py",
   "mimetype": "text/x-python",
   "name": "python",
   "nbconvert_exporter": "python",
   "pygments_lexer": "ipython3",
   "version": "3.8.10"
  }
 },
 "nbformat": 4,
 "nbformat_minor": 1
}
